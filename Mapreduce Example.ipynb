{
 "cells": [
  {
   "cell_type": "code",
   "execution_count": 8,
   "metadata": {},
   "outputs": [],
   "source": [
    "with open('./divina_commedia_first_pages.txt', 'r') as file:\n",
    "    data = file.readlines()"
   ]
  },
  {
   "cell_type": "code",
   "execution_count": 9,
   "metadata": {},
   "outputs": [
    {
     "data": {
      "text/plain": [
       "['Nel mezzo del cammin di nostra vita mi ritrovai per una selva oscura, ché la diritta via era smarrita.\\n',\n",
       " \"Lo giorno se n'andava, e l'aere bruno toglieva li animai che sono in terra dalle fatiche loro; e io sol uno m'apparecchiava a sostener la guerra sì del cammino e sì della pietate, che ritrarrà la mente che non erra.\\n\",\n",
       " \"Io dico, seguitando, ch'assai prima che noi fossimo al piè de l'alta torre, li occhi nostri n'andar suso a la cima per due fiammette che i vedemmo porre, e un'altra da lungi render cenno, tanto ch'a pena il potea l'occhio tòrre.\\n\",\n",
       " \"Poscia ch'io v'ebbi rotta la persona di due miei compagni e la via smarrita, venimmo a piè d'un colle, che, pel suo forte, per esso non mi parve più salita.\\n\",\n",
       " \"Nel manto che di corvo tutto serra, nei sassi di Cerbero l'aspro core trema, sì come una foglia verde, nel freddo tempo matutino a ora.\\n\",\n",
       " \"Al vespro di un'era antica, oltre gli anni di nostra gioventude, mi ritrovai in un'ombra incerta, dove per paura mi fermò l'umore della nostra età perduta.\\n\",\n",
       " 'Purgatorio io non vegno a dir del luogo che io priego a spasso; ma di là dal fiume, in su quel monte alto, là dove il sole gira, e noi veggiamo ogni cosa chiara.\\n',\n",
       " \"Era già l'ora che volge il disio ai navicanti e 'ntenerisce il core lo dì c'han detto ai dolci amici addio; e che lo novo peregrin d'amore punge, se ode squilla di lontano che paia il giorno pianger che si more.\\n\",\n",
       " \"Io non so ben ridir com'i' v'intrai, tant'era pien di sonno a quel punto che la verace via abbandonai.\\n\",\n",
       " \"Poco portò temenza la lunga piaggia, che 'l sole giusto, dal caro marito, ne' primi passi m'avea già conforto.\"]"
      ]
     },
     "execution_count": 9,
     "metadata": {},
     "output_type": "execute_result"
    }
   ],
   "source": [
    "data"
   ]
  },
  {
   "cell_type": "markdown",
   "metadata": {},
   "source": [
    "## Map Step\n",
    "\n",
    "The Map step processes the input data to produce a set of intermediate key-value pairs. Here, we split each sentence into words and map each word to a key-value pair `(word, 1)`."
   ]
  },
  {
   "cell_type": "code",
   "execution_count": 10,
   "metadata": {},
   "outputs": [
    {
     "name": "stdout",
     "output_type": "stream",
     "text": [
      "Mapped Data: [('nel', 1), ('mezzo', 1), ('del', 1), ('cammin', 1), ('di', 1), ('nostra', 1), ('vita', 1), ('mi', 1), ('ritrovai', 1), ('per', 1), ('una', 1), ('selva', 1), ('oscura,', 1), ('ché', 1), ('la', 1), ('diritta', 1), ('via', 1), ('era', 1), ('smarrita.', 1), ('lo', 1), ('giorno', 1), ('se', 1), (\"n'andava,\", 1), ('e', 1), (\"l'aere\", 1), ('bruno', 1), ('toglieva', 1), ('li', 1), ('animai', 1), ('che', 1), ('sono', 1), ('in', 1), ('terra', 1), ('dalle', 1), ('fatiche', 1), ('loro;', 1), ('e', 1), ('io', 1), ('sol', 1), ('uno', 1), (\"m'apparecchiava\", 1), ('a', 1), ('sostener', 1), ('la', 1), ('guerra', 1), ('sì', 1), ('del', 1), ('cammino', 1), ('e', 1), ('sì', 1), ('della', 1), ('pietate,', 1), ('che', 1), ('ritrarrà', 1), ('la', 1), ('mente', 1), ('che', 1), ('non', 1), ('erra.', 1), ('io', 1), ('dico,', 1), ('seguitando,', 1), (\"ch'assai\", 1), ('prima', 1), ('che', 1), ('noi', 1), ('fossimo', 1), ('al', 1), ('piè', 1), ('de', 1), (\"l'alta\", 1), ('torre,', 1), ('li', 1), ('occhi', 1), ('nostri', 1), (\"n'andar\", 1), ('suso', 1), ('a', 1), ('la', 1), ('cima', 1), ('per', 1), ('due', 1), ('fiammette', 1), ('che', 1), ('i', 1), ('vedemmo', 1), ('porre,', 1), ('e', 1), (\"un'altra\", 1), ('da', 1), ('lungi', 1), ('render', 1), ('cenno,', 1), ('tanto', 1), (\"ch'a\", 1), ('pena', 1), ('il', 1), ('potea', 1), (\"l'occhio\", 1), ('tòrre.', 1), ('poscia', 1), (\"ch'io\", 1), (\"v'ebbi\", 1), ('rotta', 1), ('la', 1), ('persona', 1), ('di', 1), ('due', 1), ('miei', 1), ('compagni', 1), ('e', 1), ('la', 1), ('via', 1), ('smarrita,', 1), ('venimmo', 1), ('a', 1), ('piè', 1), (\"d'un\", 1), ('colle,', 1), ('che,', 1), ('pel', 1), ('suo', 1), ('forte,', 1), ('per', 1), ('esso', 1), ('non', 1), ('mi', 1), ('parve', 1), ('più', 1), ('salita.', 1), ('nel', 1), ('manto', 1), ('che', 1), ('di', 1), ('corvo', 1), ('tutto', 1), ('serra,', 1), ('nei', 1), ('sassi', 1), ('di', 1), ('cerbero', 1), (\"l'aspro\", 1), ('core', 1), ('trema,', 1), ('sì', 1), ('come', 1), ('una', 1), ('foglia', 1), ('verde,', 1), ('nel', 1), ('freddo', 1), ('tempo', 1), ('matutino', 1), ('a', 1), ('ora.', 1), ('al', 1), ('vespro', 1), ('di', 1), (\"un'era\", 1), ('antica,', 1), ('oltre', 1), ('gli', 1), ('anni', 1), ('di', 1), ('nostra', 1), ('gioventude,', 1), ('mi', 1), ('ritrovai', 1), ('in', 1), (\"un'ombra\", 1), ('incerta,', 1), ('dove', 1), ('per', 1), ('paura', 1), ('mi', 1), ('fermò', 1), (\"l'umore\", 1), ('della', 1), ('nostra', 1), ('età', 1), ('perduta.', 1), ('purgatorio', 1), ('io', 1), ('non', 1), ('vegno', 1), ('a', 1), ('dir', 1), ('del', 1), ('luogo', 1), ('che', 1), ('io', 1), ('priego', 1), ('a', 1), ('spasso;', 1), ('ma', 1), ('di', 1), ('là', 1), ('dal', 1), ('fiume,', 1), ('in', 1), ('su', 1), ('quel', 1), ('monte', 1), ('alto,', 1), ('là', 1), ('dove', 1), ('il', 1), ('sole', 1), ('gira,', 1), ('e', 1), ('noi', 1), ('veggiamo', 1), ('ogni', 1), ('cosa', 1), ('chiara.', 1), ('era', 1), ('già', 1), (\"l'ora\", 1), ('che', 1), ('volge', 1), ('il', 1), ('disio', 1), ('ai', 1), ('navicanti', 1), ('e', 1), (\"'ntenerisce\", 1), ('il', 1), ('core', 1), ('lo', 1), ('dì', 1), (\"c'han\", 1), ('detto', 1), ('ai', 1), ('dolci', 1), ('amici', 1), ('addio;', 1), ('e', 1), ('che', 1), ('lo', 1), ('novo', 1), ('peregrin', 1), (\"d'amore\", 1), ('punge,', 1), ('se', 1), ('ode', 1), ('squilla', 1), ('di', 1), ('lontano', 1), ('che', 1), ('paia', 1), ('il', 1), ('giorno', 1), ('pianger', 1), ('che', 1), ('si', 1), ('more.', 1), ('io', 1), ('non', 1), ('so', 1), ('ben', 1), ('ridir', 1), (\"com'i'\", 1), (\"v'intrai,\", 1), (\"tant'era\", 1), ('pien', 1), ('di', 1), ('sonno', 1), ('a', 1), ('quel', 1), ('punto', 1), ('che', 1), ('la', 1), ('verace', 1), ('via', 1), ('abbandonai.', 1), ('poco', 1), ('portò', 1), ('temenza', 1), ('la', 1), ('lunga', 1), ('piaggia,', 1), ('che', 1), (\"'l\", 1), ('sole', 1), ('giusto,', 1), ('dal', 1), ('caro', 1), ('marito,', 1), (\"ne'\", 1), ('primi', 1), ('passi', 1), (\"m'avea\", 1), ('già', 1), ('conforto.', 1)]\n"
     ]
    }
   ],
   "source": [
    "def map_function(sentences):\n",
    "    \"\"\"\n",
    "    Map function to split sentences into words and map each word to (word, 1)\n",
    "    \"\"\"\n",
    "    mapped = []\n",
    "    for sentence in sentences:\n",
    "        words = sentence.split()\n",
    "        for word in words:\n",
    "            mapped.append((word.lower(), 1))\n",
    "    return mapped\n",
    "\n",
    "# Execute Map Step\n",
    "mapped = map_function(data)\n",
    "print(\"Mapped Data:\", mapped)"
   ]
  },
  {
   "cell_type": "markdown",
   "metadata": {},
   "source": [
    "## Shuffle and Sort Step\n",
    "\n",
    "This step groups the intermediate key-value pairs by key (word). In a real MapReduce system, this is usually handled by the framework. Here, we'll manually group the key-value pairs."
   ]
  },
  {
   "cell_type": "code",
   "execution_count": 11,
   "metadata": {},
   "outputs": [
    {
     "name": "stdout",
     "output_type": "stream",
     "text": [
      "Grouped Data: {'nel': [1, 1, 1], 'mezzo': [1], 'del': [1, 1, 1], 'cammin': [1], 'di': [1, 1, 1, 1, 1, 1, 1, 1, 1], 'nostra': [1, 1, 1], 'vita': [1], 'mi': [1, 1, 1, 1], 'ritrovai': [1, 1], 'per': [1, 1, 1, 1], 'una': [1, 1], 'selva': [1], 'oscura,': [1], 'ché': [1], 'la': [1, 1, 1, 1, 1, 1, 1, 1], 'diritta': [1], 'via': [1, 1, 1], 'era': [1, 1], 'smarrita.': [1], 'lo': [1, 1, 1], 'giorno': [1, 1], 'se': [1, 1], \"n'andava,\": [1], 'e': [1, 1, 1, 1, 1, 1, 1, 1], \"l'aere\": [1], 'bruno': [1], 'toglieva': [1], 'li': [1, 1], 'animai': [1], 'che': [1, 1, 1, 1, 1, 1, 1, 1, 1, 1, 1, 1, 1], 'sono': [1], 'in': [1, 1, 1], 'terra': [1], 'dalle': [1], 'fatiche': [1], 'loro;': [1], 'io': [1, 1, 1, 1, 1], 'sol': [1], 'uno': [1], \"m'apparecchiava\": [1], 'a': [1, 1, 1, 1, 1, 1, 1], 'sostener': [1], 'guerra': [1], 'sì': [1, 1, 1], 'cammino': [1], 'della': [1, 1], 'pietate,': [1], 'ritrarrà': [1], 'mente': [1], 'non': [1, 1, 1, 1], 'erra.': [1], 'dico,': [1], 'seguitando,': [1], \"ch'assai\": [1], 'prima': [1], 'noi': [1, 1], 'fossimo': [1], 'al': [1, 1], 'piè': [1, 1], 'de': [1], \"l'alta\": [1], 'torre,': [1], 'occhi': [1], 'nostri': [1], \"n'andar\": [1], 'suso': [1], 'cima': [1], 'due': [1, 1], 'fiammette': [1], 'i': [1], 'vedemmo': [1], 'porre,': [1], \"un'altra\": [1], 'da': [1], 'lungi': [1], 'render': [1], 'cenno,': [1], 'tanto': [1], \"ch'a\": [1], 'pena': [1], 'il': [1, 1, 1, 1, 1], 'potea': [1], \"l'occhio\": [1], 'tòrre.': [1], 'poscia': [1], \"ch'io\": [1], \"v'ebbi\": [1], 'rotta': [1], 'persona': [1], 'miei': [1], 'compagni': [1], 'smarrita,': [1], 'venimmo': [1], \"d'un\": [1], 'colle,': [1], 'che,': [1], 'pel': [1], 'suo': [1], 'forte,': [1], 'esso': [1], 'parve': [1], 'più': [1], 'salita.': [1], 'manto': [1], 'corvo': [1], 'tutto': [1], 'serra,': [1], 'nei': [1], 'sassi': [1], 'cerbero': [1], \"l'aspro\": [1], 'core': [1, 1], 'trema,': [1], 'come': [1], 'foglia': [1], 'verde,': [1], 'freddo': [1], 'tempo': [1], 'matutino': [1], 'ora.': [1], 'vespro': [1], \"un'era\": [1], 'antica,': [1], 'oltre': [1], 'gli': [1], 'anni': [1], 'gioventude,': [1], \"un'ombra\": [1], 'incerta,': [1], 'dove': [1, 1], 'paura': [1], 'fermò': [1], \"l'umore\": [1], 'età': [1], 'perduta.': [1], 'purgatorio': [1], 'vegno': [1], 'dir': [1], 'luogo': [1], 'priego': [1], 'spasso;': [1], 'ma': [1], 'là': [1, 1], 'dal': [1, 1], 'fiume,': [1], 'su': [1], 'quel': [1, 1], 'monte': [1], 'alto,': [1], 'sole': [1, 1], 'gira,': [1], 'veggiamo': [1], 'ogni': [1], 'cosa': [1], 'chiara.': [1], 'già': [1, 1], \"l'ora\": [1], 'volge': [1], 'disio': [1], 'ai': [1, 1], 'navicanti': [1], \"'ntenerisce\": [1], 'dì': [1], \"c'han\": [1], 'detto': [1], 'dolci': [1], 'amici': [1], 'addio;': [1], 'novo': [1], 'peregrin': [1], \"d'amore\": [1], 'punge,': [1], 'ode': [1], 'squilla': [1], 'lontano': [1], 'paia': [1], 'pianger': [1], 'si': [1], 'more.': [1], 'so': [1], 'ben': [1], 'ridir': [1], \"com'i'\": [1], \"v'intrai,\": [1], \"tant'era\": [1], 'pien': [1], 'sonno': [1], 'punto': [1], 'verace': [1], 'abbandonai.': [1], 'poco': [1], 'portò': [1], 'temenza': [1], 'lunga': [1], 'piaggia,': [1], \"'l\": [1], 'giusto,': [1], 'caro': [1], 'marito,': [1], \"ne'\": [1], 'primi': [1], 'passi': [1], \"m'avea\": [1], 'conforto.': [1]}\n"
     ]
    }
   ],
   "source": [
    "from collections import defaultdict\n",
    "\n",
    "def shuffle_and_sort(mapped):\n",
    "    \"\"\"\n",
    "    Shuffle and Sort function to group the mapped key-value pairs by key\n",
    "    \"\"\"\n",
    "    grouped = defaultdict(list)\n",
    "    for key, value in mapped:\n",
    "        grouped[key].append(value)\n",
    "    return grouped\n",
    "\n",
    "# Execute Shuffle and Sort Step\n",
    "grouped = shuffle_and_sort(mapped)\n",
    "print(\"Grouped Data:\", dict(grouped))"
   ]
  },
  {
   "cell_type": "markdown",
   "metadata": {},
   "source": [
    "## Reduce Step\n",
    "\n",
    "The Reduce step merges all intermediate values associated with the same key to produce the final result. Here, we sum the values for each key to get the total count of each word."
   ]
  },
  {
   "cell_type": "code",
   "execution_count": 12,
   "metadata": {},
   "outputs": [
    {
     "name": "stdout",
     "output_type": "stream",
     "text": [
      "Reduced Data: {'nel': 3, 'mezzo': 1, 'del': 3, 'cammin': 1, 'di': 9, 'nostra': 3, 'vita': 1, 'mi': 4, 'ritrovai': 2, 'per': 4, 'una': 2, 'selva': 1, 'oscura,': 1, 'ché': 1, 'la': 8, 'diritta': 1, 'via': 3, 'era': 2, 'smarrita.': 1, 'lo': 3, 'giorno': 2, 'se': 2, \"n'andava,\": 1, 'e': 8, \"l'aere\": 1, 'bruno': 1, 'toglieva': 1, 'li': 2, 'animai': 1, 'che': 13, 'sono': 1, 'in': 3, 'terra': 1, 'dalle': 1, 'fatiche': 1, 'loro;': 1, 'io': 5, 'sol': 1, 'uno': 1, \"m'apparecchiava\": 1, 'a': 7, 'sostener': 1, 'guerra': 1, 'sì': 3, 'cammino': 1, 'della': 2, 'pietate,': 1, 'ritrarrà': 1, 'mente': 1, 'non': 4, 'erra.': 1, 'dico,': 1, 'seguitando,': 1, \"ch'assai\": 1, 'prima': 1, 'noi': 2, 'fossimo': 1, 'al': 2, 'piè': 2, 'de': 1, \"l'alta\": 1, 'torre,': 1, 'occhi': 1, 'nostri': 1, \"n'andar\": 1, 'suso': 1, 'cima': 1, 'due': 2, 'fiammette': 1, 'i': 1, 'vedemmo': 1, 'porre,': 1, \"un'altra\": 1, 'da': 1, 'lungi': 1, 'render': 1, 'cenno,': 1, 'tanto': 1, \"ch'a\": 1, 'pena': 1, 'il': 5, 'potea': 1, \"l'occhio\": 1, 'tòrre.': 1, 'poscia': 1, \"ch'io\": 1, \"v'ebbi\": 1, 'rotta': 1, 'persona': 1, 'miei': 1, 'compagni': 1, 'smarrita,': 1, 'venimmo': 1, \"d'un\": 1, 'colle,': 1, 'che,': 1, 'pel': 1, 'suo': 1, 'forte,': 1, 'esso': 1, 'parve': 1, 'più': 1, 'salita.': 1, 'manto': 1, 'corvo': 1, 'tutto': 1, 'serra,': 1, 'nei': 1, 'sassi': 1, 'cerbero': 1, \"l'aspro\": 1, 'core': 2, 'trema,': 1, 'come': 1, 'foglia': 1, 'verde,': 1, 'freddo': 1, 'tempo': 1, 'matutino': 1, 'ora.': 1, 'vespro': 1, \"un'era\": 1, 'antica,': 1, 'oltre': 1, 'gli': 1, 'anni': 1, 'gioventude,': 1, \"un'ombra\": 1, 'incerta,': 1, 'dove': 2, 'paura': 1, 'fermò': 1, \"l'umore\": 1, 'età': 1, 'perduta.': 1, 'purgatorio': 1, 'vegno': 1, 'dir': 1, 'luogo': 1, 'priego': 1, 'spasso;': 1, 'ma': 1, 'là': 2, 'dal': 2, 'fiume,': 1, 'su': 1, 'quel': 2, 'monte': 1, 'alto,': 1, 'sole': 2, 'gira,': 1, 'veggiamo': 1, 'ogni': 1, 'cosa': 1, 'chiara.': 1, 'già': 2, \"l'ora\": 1, 'volge': 1, 'disio': 1, 'ai': 2, 'navicanti': 1, \"'ntenerisce\": 1, 'dì': 1, \"c'han\": 1, 'detto': 1, 'dolci': 1, 'amici': 1, 'addio;': 1, 'novo': 1, 'peregrin': 1, \"d'amore\": 1, 'punge,': 1, 'ode': 1, 'squilla': 1, 'lontano': 1, 'paia': 1, 'pianger': 1, 'si': 1, 'more.': 1, 'so': 1, 'ben': 1, 'ridir': 1, \"com'i'\": 1, \"v'intrai,\": 1, \"tant'era\": 1, 'pien': 1, 'sonno': 1, 'punto': 1, 'verace': 1, 'abbandonai.': 1, 'poco': 1, 'portò': 1, 'temenza': 1, 'lunga': 1, 'piaggia,': 1, \"'l\": 1, 'giusto,': 1, 'caro': 1, 'marito,': 1, \"ne'\": 1, 'primi': 1, 'passi': 1, \"m'avea\": 1, 'conforto.': 1}\n"
     ]
    }
   ],
   "source": [
    "def reduce_function(grouped):\n",
    "    \"\"\"\n",
    "    Reduce function to sum the values for each key to get the total count of each word\n",
    "    \"\"\"\n",
    "    reduced = {}\n",
    "    for key, values in grouped.items():\n",
    "        reduced[key] = sum(values)\n",
    "    return reduced\n",
    "\n",
    "# Execute Reduce Step\n",
    "reduced = reduce_function(grouped)\n",
    "print(\"Reduced Data:\", reduced)"
   ]
  },
  {
   "cell_type": "markdown",
   "metadata": {},
   "source": [
    "## Final Result\n",
    "\n",
    "The final result is a dictionary where keys are words and values are their respective counts."
   ]
  },
  {
   "cell_type": "code",
   "execution_count": 13,
   "metadata": {
    "scrolled": false
   },
   "outputs": [
    {
     "name": "stdout",
     "output_type": "stream",
     "text": [
      "nel: 3\n",
      "mezzo: 1\n",
      "del: 3\n",
      "cammin: 1\n",
      "di: 9\n",
      "nostra: 3\n",
      "vita: 1\n",
      "mi: 4\n",
      "ritrovai: 2\n",
      "per: 4\n",
      "una: 2\n",
      "selva: 1\n",
      "oscura,: 1\n",
      "ché: 1\n",
      "la: 8\n",
      "diritta: 1\n",
      "via: 3\n",
      "era: 2\n",
      "smarrita.: 1\n",
      "lo: 3\n",
      "giorno: 2\n",
      "se: 2\n",
      "n'andava,: 1\n",
      "e: 8\n",
      "l'aere: 1\n",
      "bruno: 1\n",
      "toglieva: 1\n",
      "li: 2\n",
      "animai: 1\n",
      "che: 13\n",
      "sono: 1\n",
      "in: 3\n",
      "terra: 1\n",
      "dalle: 1\n",
      "fatiche: 1\n",
      "loro;: 1\n",
      "io: 5\n",
      "sol: 1\n",
      "uno: 1\n",
      "m'apparecchiava: 1\n",
      "a: 7\n",
      "sostener: 1\n",
      "guerra: 1\n",
      "sì: 3\n",
      "cammino: 1\n",
      "della: 2\n",
      "pietate,: 1\n",
      "ritrarrà: 1\n",
      "mente: 1\n",
      "non: 4\n",
      "erra.: 1\n",
      "dico,: 1\n",
      "seguitando,: 1\n",
      "ch'assai: 1\n",
      "prima: 1\n",
      "noi: 2\n",
      "fossimo: 1\n",
      "al: 2\n",
      "piè: 2\n",
      "de: 1\n",
      "l'alta: 1\n",
      "torre,: 1\n",
      "occhi: 1\n",
      "nostri: 1\n",
      "n'andar: 1\n",
      "suso: 1\n",
      "cima: 1\n",
      "due: 2\n",
      "fiammette: 1\n",
      "i: 1\n",
      "vedemmo: 1\n",
      "porre,: 1\n",
      "un'altra: 1\n",
      "da: 1\n",
      "lungi: 1\n",
      "render: 1\n",
      "cenno,: 1\n",
      "tanto: 1\n",
      "ch'a: 1\n",
      "pena: 1\n",
      "il: 5\n",
      "potea: 1\n",
      "l'occhio: 1\n",
      "tòrre.: 1\n",
      "poscia: 1\n",
      "ch'io: 1\n",
      "v'ebbi: 1\n",
      "rotta: 1\n",
      "persona: 1\n",
      "miei: 1\n",
      "compagni: 1\n",
      "smarrita,: 1\n",
      "venimmo: 1\n",
      "d'un: 1\n",
      "colle,: 1\n",
      "che,: 1\n",
      "pel: 1\n",
      "suo: 1\n",
      "forte,: 1\n",
      "esso: 1\n",
      "parve: 1\n",
      "più: 1\n",
      "salita.: 1\n",
      "manto: 1\n",
      "corvo: 1\n",
      "tutto: 1\n",
      "serra,: 1\n",
      "nei: 1\n",
      "sassi: 1\n",
      "cerbero: 1\n",
      "l'aspro: 1\n",
      "core: 2\n",
      "trema,: 1\n",
      "come: 1\n",
      "foglia: 1\n",
      "verde,: 1\n",
      "freddo: 1\n",
      "tempo: 1\n",
      "matutino: 1\n",
      "ora.: 1\n",
      "vespro: 1\n",
      "un'era: 1\n",
      "antica,: 1\n",
      "oltre: 1\n",
      "gli: 1\n",
      "anni: 1\n",
      "gioventude,: 1\n",
      "un'ombra: 1\n",
      "incerta,: 1\n",
      "dove: 2\n",
      "paura: 1\n",
      "fermò: 1\n",
      "l'umore: 1\n",
      "età: 1\n",
      "perduta.: 1\n",
      "purgatorio: 1\n",
      "vegno: 1\n",
      "dir: 1\n",
      "luogo: 1\n",
      "priego: 1\n",
      "spasso;: 1\n",
      "ma: 1\n",
      "là: 2\n",
      "dal: 2\n",
      "fiume,: 1\n",
      "su: 1\n",
      "quel: 2\n",
      "monte: 1\n",
      "alto,: 1\n",
      "sole: 2\n",
      "gira,: 1\n",
      "veggiamo: 1\n",
      "ogni: 1\n",
      "cosa: 1\n",
      "chiara.: 1\n",
      "già: 2\n",
      "l'ora: 1\n",
      "volge: 1\n",
      "disio: 1\n",
      "ai: 2\n",
      "navicanti: 1\n",
      "'ntenerisce: 1\n",
      "dì: 1\n",
      "c'han: 1\n",
      "detto: 1\n",
      "dolci: 1\n",
      "amici: 1\n",
      "addio;: 1\n",
      "novo: 1\n",
      "peregrin: 1\n",
      "d'amore: 1\n",
      "punge,: 1\n",
      "ode: 1\n",
      "squilla: 1\n",
      "lontano: 1\n",
      "paia: 1\n",
      "pianger: 1\n",
      "si: 1\n",
      "more.: 1\n",
      "so: 1\n",
      "ben: 1\n",
      "ridir: 1\n",
      "com'i': 1\n",
      "v'intrai,: 1\n",
      "tant'era: 1\n",
      "pien: 1\n",
      "sonno: 1\n",
      "punto: 1\n",
      "verace: 1\n",
      "abbandonai.: 1\n",
      "poco: 1\n",
      "portò: 1\n",
      "temenza: 1\n",
      "lunga: 1\n",
      "piaggia,: 1\n",
      "'l: 1\n",
      "giusto,: 1\n",
      "caro: 1\n",
      "marito,: 1\n",
      "ne': 1\n",
      "primi: 1\n",
      "passi: 1\n",
      "m'avea: 1\n",
      "conforto.: 1\n"
     ]
    }
   ],
   "source": [
    "# Display the final result\n",
    "for word, count in reduced.items():\n",
    "    print(f'{word}: {count}')"
   ]
  },
  {
   "cell_type": "code",
   "execution_count": null,
   "metadata": {},
   "outputs": [],
   "source": []
  }
 ],
 "metadata": {
  "kernelspec": {
   "display_name": "Python 3 (ipykernel)",
   "language": "python",
   "name": "python3"
  },
  "language_info": {
   "codemirror_mode": {
    "name": "ipython",
    "version": 3
   },
   "file_extension": ".py",
   "mimetype": "text/x-python",
   "name": "python",
   "nbconvert_exporter": "python",
   "pygments_lexer": "ipython3",
   "version": "3.11.5"
  }
 },
 "nbformat": 4,
 "nbformat_minor": 4
}
